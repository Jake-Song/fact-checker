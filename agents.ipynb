{
 "cells": [
  {
   "cell_type": "code",
   "execution_count": 1,
   "metadata": {},
   "outputs": [],
   "source": [
    "from typing import List, Dict, Any, Optional, Callable\n",
    "from abc import ABC, abstractmethod\n",
    "import json\n",
    "from dataclasses import dataclass\n",
    "from dotenv import load_dotenv\n",
    "load_dotenv()\n",
    "\n",
    "@dataclass\n",
    "class Message:\n",
    "    role: str\n",
    "    content: str\n",
    "    metadata: Optional[Dict[str, Any]] = None\n",
    "\n",
    "class LLMProvider(ABC):\n",
    "    @abstractmethod\n",
    "    def generate(self, prompt: str, **kwargs) -> str:\n",
    "        pass"
   ]
  },
  {
   "cell_type": "code",
   "execution_count": 2,
   "metadata": {},
   "outputs": [],
   "source": [
    "class OpenAIProvider(LLMProvider):\n",
    "    def __init__(self, model: str = \"gpt-4o-mini\"):\n",
    "        from openai import OpenAI\n",
    "        self.client = OpenAI()\n",
    "        self.model = model\n",
    "\n",
    "    def generate(self, prompt: List[Message], **kwargs) -> tuple[str | dict, bool]:\n",
    "        response = self.client.chat.completions.create(\n",
    "            model=self.model,\n",
    "            messages=prompt,\n",
    "            **kwargs\n",
    "        )\n",
    "        if response.choices[0].message.tool_calls is None:\n",
    "            return response.choices[0].message.content, False\n",
    "        else:\n",
    "            return response.choices[0].message, True\n",
    "       "
   ]
  },
  {
   "cell_type": "code",
   "execution_count": 3,
   "metadata": {},
   "outputs": [],
   "source": [
    "llm = OpenAIProvider()"
   ]
  },
  {
   "cell_type": "code",
   "execution_count": 28,
   "metadata": {},
   "outputs": [],
   "source": [
    "import os\n",
    "from tavily import TavilyClient\n",
    "tavily_client = TavilyClient(api_key=f\"{os.getenv('TAVILY_API_KEY')}\")\n",
    "\n",
    "def search_tavily(query, max_results=2, **kwargs):\n",
    "    response = tavily_client.search(\n",
    "        query=query,\n",
    "        max_results=max_results,\n",
    "        **kwargs        \n",
    "    )\n",
    "    return response['results']\n",
    "\n",
    "def extract_tavily(urls, **kwargs):\n",
    "    response = tavily_client.extract(\n",
    "        urls=urls,\n",
    "        **kwargs        \n",
    "    )\n",
    "    return response"
   ]
  },
  {
   "cell_type": "code",
   "execution_count": 5,
   "metadata": {},
   "outputs": [],
   "source": [
    "tools = [{\n",
    "    \"type\": \"function\",\n",
    "    \"function\": {\n",
    "        \"name\": \"search_tavily\",\n",
    "        \"description\": \"Search the web for a given query.\",\n",
    "        \"parameters\": {\n",
    "            \"type\": \"object\",\n",
    "            \"properties\": {\n",
    "                \"query\": {\n",
    "                    \"type\": \"string\",\n",
    "                    \"description\": \"query to search the web for\"\n",
    "                }\n",
    "            },\n",
    "            \"required\": [\n",
    "                \"query\"\n",
    "            ],\n",
    "            \"additionalProperties\": False\n",
    "        },\n",
    "        \"strict\": True\n",
    "    }\n",
    "}]"
   ]
  },
  {
   "cell_type": "code",
   "execution_count": 7,
   "metadata": {},
   "outputs": [],
   "source": [
    "class Tool:\n",
    "    def __init__(\n",
    "        self,\n",
    "        description: List[Dict[str, Any]],\n",
    "        function: Callable\n",
    "    ):\n",
    "        self.description = description\n",
    "        self.function = function\n",
    "   \n",
    "        "
   ]
  },
  {
   "cell_type": "code",
   "execution_count": 54,
   "metadata": {},
   "outputs": [],
   "source": [
    "class Agent:\n",
    "    def __init__(\n",
    "        self,\n",
    "        llm: LLMProvider,\n",
    "        system_prompt: str,\n",
    "        tool: Tool = None\n",
    "    ):\n",
    "        self.llm = llm\n",
    "        self.system_prompt = system_prompt\n",
    "        self.messages = [{\"role\": \"system\", \"content\": self.system_prompt}]\n",
    "        self.tool = tool\n",
    "\n",
    "    def generate(self, prompt: str, **kwargs) -> str:\n",
    "        self.messages.append({\"role\": \"user\", \"content\": prompt})\n",
    "\n",
    "        if self.tool:\n",
    "            completion, is_tool_call = self.llm.generate(\n",
    "                prompt=self.messages,\n",
    "                tools=self.tool.description\n",
    "            )\n",
    "            \n",
    "            if is_tool_call:\n",
    "                self.messages.append(completion)\n",
    "                print('tool call start: ', self.messages)\n",
    "\n",
    "                if len(completion.tool_calls) > 1:\n",
    "                    for tool_call in completion.tool_calls:\n",
    "                        args = json.loads(tool_call.function.arguments)\n",
    "                        result = self.tool.function(args[\"query\"])\n",
    "                        print('search result: ', result)\n",
    "                        self.messages.append({                             \n",
    "                            \"role\": \"tool\",\n",
    "                            \"tool_call_id\": tool_call.id,\n",
    "                            \"content\": str(result)\n",
    "                        })\n",
    "                    print('multiple tool call: ', self.messages)\n",
    "                else:\n",
    "                    tool_call = completion.tool_calls[0]\n",
    "                    args = json.loads(tool_call.function.arguments)\n",
    "                    result = self.tool.function(args[\"query\"])\n",
    "                    print('search result: ', result)\n",
    "                    self.messages.append({                             \n",
    "                        \"role\": \"tool\",\n",
    "                        \"tool_call_id\": tool_call.id,\n",
    "                        \"content\": str(result)\n",
    "                    })\n",
    "                    print('single tool call: ', self.messages)\n",
    "                    \n",
    "                completion_2, _ = self.llm.generate(\n",
    "                    prompt=self.messages,\n",
    "                )\n",
    "\n",
    "                return completion_2\n",
    "            else:\n",
    "                return completion\n",
    "        else:\n",
    "            completion, _ = self.llm.generate(\n",
    "                prompt=self.messages                \n",
    "            )\n",
    "            return completion\n",
    "        "
   ]
  },
  {
   "cell_type": "code",
   "execution_count": 48,
   "metadata": {},
   "outputs": [],
   "source": [
    "search_tool = Tool(tools, search_tavily)"
   ]
  },
  {
   "cell_type": "code",
   "execution_count": 49,
   "metadata": {},
   "outputs": [],
   "source": [
    "search_keyword_agent = Agent(\n",
    "    llm=llm, \n",
    "    system_prompt=\"\"\"\n",
    "        사용자가 요청한 내용에 대한 검색 키워드 생성 어시스턴트입니다.\n",
    "        너의 임무는 \n",
    "         1. 요청한 내용에 대한 주장을 세분화 \n",
    "         2. 각 주장에 대한 검색 키워드를 생성\n",
    "        최적의 검색 결과를 얻기 위한 키워드를 생성해주세요.\n",
    "        출력 형식은 다음과 같습니다.\n",
    "        예시:\n",
    "        지구는 평평하다 : 지구 평평\n",
    "        미국은 중국을 넘어서 세계 최대 경제 강국이다 : 미국 중국 경제\n",
    "    \"\"\"    \n",
    ")"
   ]
  },
  {
   "cell_type": "code",
   "execution_count": 55,
   "metadata": {},
   "outputs": [],
   "source": [
    "search_agent = Agent(\n",
    "    llm=llm, \n",
    "    system_prompt=\"\"\"\n",
    "        검색 키워드에 따라 도구를 사용해 인터넷 검색을 해주는 도우미입니다.\n",
    "        출력 형식은 다음과 같습니다.\n",
    "        예시: \n",
    "        지구는 평평하다 - 제목: 지구는 평평하다, 내용: 지구는 평평하다, 링크: https://www.google.com\n",
    "        미국은 중국을 넘어서 세계 최대 경제 강국이다 - 제목: 미국은 중국을 넘어서 세계 최대 경제 강국이다, 내용: 미국은 중국을 넘어서 세계 최대 경제 강국이다, 링크: https://www.google.com\n",
    "    \"\"\",\n",
    "    tool=search_tool\n",
    ")"
   ]
  },
  {
   "cell_type": "code",
   "execution_count": 51,
   "metadata": {},
   "outputs": [],
   "source": [
    "verdict_agent = Agent(\n",
    "    llm=llm, \n",
    "    system_prompt=\"\"\"\n",
    "        주어진 내용에 따라 사실인지 아닌 지 판단하고 그 근거를 내용에 기반해 제시해주는 도우미입니다. 링크도 포함해서 제시해주세요.\n",
    "    \"\"\",\n",
    ")"
   ]
  },
  {
   "cell_type": "code",
   "execution_count": 39,
   "metadata": {},
   "outputs": [
    {
     "data": {
      "text/plain": [
       "'지구는 평평하다 : 지구 평평  \\n우주는 지구를 중심으로 돈다 : 지구 중심 우주 회전  '"
      ]
     },
     "execution_count": 39,
     "metadata": {},
     "output_type": "execute_result"
    }
   ],
   "source": [
    "searched_keywords = search_keyword_agent.generate(\"지구는 평평하고 우주는 지구를 중심으로 돈다\")\n",
    "searched_keywords"
   ]
  },
  {
   "cell_type": "code",
   "execution_count": 56,
   "metadata": {},
   "outputs": [
    {
     "name": "stdout",
     "output_type": "stream",
     "text": [
      "tool call start:  [{'role': 'system', 'content': '\\n        검색 키워드에 따라 도구를 사용해 인터넷 검색을 해주는 도우미입니다.\\n        출력 형식은 다음과 같습니다.\\n        예시: \\n        지구는 평평하다 - 제목: 지구는 평평하다, 내용: 지구는 평평하다, 링크: https://www.google.com\\n        미국은 중국을 넘어서 세계 최대 경제 강국이다 - 제목: 미국은 중국을 넘어서 세계 최대 경제 강국이다, 내용: 미국은 중국을 넘어서 세계 최대 경제 강국이다, 링크: https://www.google.com\\n    '}, {'role': 'user', 'content': '지구는 평평하다 : 지구 평평  \\n우주는 지구를 중심으로 돈다 : 지구 중심 우주 회전  '}, ChatCompletionMessage(content=None, refusal=None, role='assistant', audio=None, function_call=None, tool_calls=[ChatCompletionMessageToolCall(id='call_FqDSEBrOjpVIkr2zQ6L1NaKv', function=Function(arguments='{\"query\": \"지구는 평평하다\"}', name='search_tavily'), type='function'), ChatCompletionMessageToolCall(id='call_KDCh1tGCKRrCzL06BaowSP3m', function=Function(arguments='{\"query\": \"우주는 지구를 중심으로 돈다\"}', name='search_tavily'), type='function')])]\n",
      "search result:  [{'title': '지평설 - 위키백과, 우리 모두의 백과사전', 'url': 'https://ko.wikipedia.org/wiki/지평설', 'content': \"문서 문서 정보 기원전 4세기 경 고대 그리스의 과학자와 철학자들이 땅의 모양이 둥글다는 아이디어를 제안하기 전까지 사람들은 땅이 평평하다고 믿었다. 기원전 330년 경 아리스토텔레스는 처음으로 땅이 구체라는 증거를 내놨다. 평평한 지구 학회는 2012년 기준 420명의 회원으로 활동하고 있으며 '땅은 구체가 아니라는 평론'(The Earth Not a Globe Review)이라는 제목을 가진 잡지를 21세기 초까지 발행했다.[1] 땅이 평평하다면 절대 일어날 수 없는 현상과, 지평설을 반박하는 증거들은 다음과 같다.[1][2] 극지방은 지구가 23.5도로 기울어져 있기에 발생하는 1년 중 낮과 밤이 6개월 동안 지속하는 백야 현상이 관측되는 특징을 가지는데, 평평한 지면에서는 이 백야현상을 설명할 수 없다. 땅이 평평하다면 나침반을 쓸 수 없다. 별자리\\xa0: 땅이 평평하다면 모든 지역에서 같은 별자리가 보여야 한다. 북극성의 고도\\xa0: 땅이 평평하다면 모든 지역에서 북극성의 고도가 같아야 한다.\", 'score': 0.843393, 'raw_content': None}, {'title': '[시선2035] 그래도 지구는 평평하다? | 중앙 ... - 중앙일보', 'url': 'https://www.joongang.co.kr/article/23784494', 'content': '| 중앙일보 중앙일보 회원에게만 제공되는 스페셜 콘텐트 중앙일보 넷플릭스 다큐멘터리 ‘그래도 지구는 평평하다’(2018)는 지구가 평평하다고 믿는 지구 평면론자들의 이야기다. 주인공 격인 마크 서전트를 비롯한 지구 평면론자들의 주장을 요약하면, 지구는 북극을 중심으로 한 원반 모양이며 그 끝은 약 60m 높이의 남극 얼음벽으로 둘러싸여 있다. # 지구) The JoongAng Plus The JoongAng Plus 서비스 더보기 오피니언 서비스 더보기 정치 서비스 더보기 경제 서비스 더보기 사회 서비스 더보기 국제 서비스 더보기 문화 서비스 더보기 스포츠 서비스 더보기 라이프 서비스 더보기 피플 서비스 더보기 스페셜_서비스 더보기_ 중앙일보 중앙일보 회원이 되어주세요!회원에게만 제공되는 편의 기능이 궁금하신가요? 중앙일보 회원에게만 제공되는 스페셜 콘텐트 뉴스레터 메일 수신중앙일보는 뉴스레터, 기타 구독 서비스 제공 목적으로 개인 정보를 수집·이용 합니다. ‘구독 서비스’ 신청자는 원칙적으로 개인정보 수집 · 이용에 대해 거부할 권리를 가지고 있습니다.', 'score': 0.84246206, 'raw_content': None}]\n",
      "search result:  [{'title': '『지구와 사람은 어떻게 생겨났을까?』 - 중앙일보', 'url': 'https://www.joongang.co.kr/article/3680596', 'content': '그리고 우주는 지구를 중심으로 돈다고 여겼다. 하지만 지금으로부터 450여 년 전, 폴란드의 천문학자 코페르니쿠스는 지구가 태양의 주변을 돈다는 사실을 발견해냈다. 사람들은 우주의 중심이 지구가 아님을 알게 됐다. ... 지구는 1년 동안 태양계를 한 바퀴씩', 'score': 0.8719229, 'raw_content': None}, {'title': '서평-아는 만큼 보이는 세상 : 우주 편 (양자역학, 상대성이론을 몰라도 이해하는 우주 첫걸음)/(마쓰바라 다카히코 저/송경원 ...', 'url': 'https://issac95.tistory.com/237', 'content': '모든 것은 지구를 중심으로 돈다는 생각ㆍ천동설 \"그래도 지구는 돈다!\"ㆍ지동설. 과연 우주는 끝이 없을까?ㆍ무한 우주론. 기차에서 발견하는 우주의 비밀ㆍ지동설의 증거. 제2의 지구는 정말로 있을까?ㆍ외계 행성의 발견', 'score': 0.80735475, 'raw_content': None}]\n",
      "multiple tool call:  [{'role': 'system', 'content': '\\n        검색 키워드에 따라 도구를 사용해 인터넷 검색을 해주는 도우미입니다.\\n        출력 형식은 다음과 같습니다.\\n        예시: \\n        지구는 평평하다 - 제목: 지구는 평평하다, 내용: 지구는 평평하다, 링크: https://www.google.com\\n        미국은 중국을 넘어서 세계 최대 경제 강국이다 - 제목: 미국은 중국을 넘어서 세계 최대 경제 강국이다, 내용: 미국은 중국을 넘어서 세계 최대 경제 강국이다, 링크: https://www.google.com\\n    '}, {'role': 'user', 'content': '지구는 평평하다 : 지구 평평  \\n우주는 지구를 중심으로 돈다 : 지구 중심 우주 회전  '}, ChatCompletionMessage(content=None, refusal=None, role='assistant', audio=None, function_call=None, tool_calls=[ChatCompletionMessageToolCall(id='call_FqDSEBrOjpVIkr2zQ6L1NaKv', function=Function(arguments='{\"query\": \"지구는 평평하다\"}', name='search_tavily'), type='function'), ChatCompletionMessageToolCall(id='call_KDCh1tGCKRrCzL06BaowSP3m', function=Function(arguments='{\"query\": \"우주는 지구를 중심으로 돈다\"}', name='search_tavily'), type='function')]), {'role': 'tool', 'tool_call_id': 'call_FqDSEBrOjpVIkr2zQ6L1NaKv', 'content': '[{\\'title\\': \\'지평설 - 위키백과, 우리 모두의 백과사전\\', \\'url\\': \\'https://ko.wikipedia.org/wiki/지평설\\', \\'content\\': \"문서 문서 정보 기원전 4세기 경 고대 그리스의 과학자와 철학자들이 땅의 모양이 둥글다는 아이디어를 제안하기 전까지 사람들은 땅이 평평하다고 믿었다. 기원전 330년 경 아리스토텔레스는 처음으로 땅이 구체라는 증거를 내놨다. 평평한 지구 학회는 2012년 기준 420명의 회원으로 활동하고 있으며 \\'땅은 구체가 아니라는 평론\\'(The Earth Not a Globe Review)이라는 제목을 가진 잡지를 21세기 초까지 발행했다.[1] 땅이 평평하다면 절대 일어날 수 없는 현상과, 지평설을 반박하는 증거들은 다음과 같다.[1][2] 극지방은 지구가 23.5도로 기울어져 있기에 발생하는 1년 중 낮과 밤이 6개월 동안 지속하는 백야 현상이 관측되는 특징을 가지는데, 평평한 지면에서는 이 백야현상을 설명할 수 없다. 땅이 평평하다면 나침반을 쓸 수 없다. 별자리\\\\xa0: 땅이 평평하다면 모든 지역에서 같은 별자리가 보여야 한다. 북극성의 고도\\\\xa0: 땅이 평평하다면 모든 지역에서 북극성의 고도가 같아야 한다.\", \\'score\\': 0.843393, \\'raw_content\\': None}, {\\'title\\': \\'[시선2035] 그래도 지구는 평평하다? | 중앙 ... - 중앙일보\\', \\'url\\': \\'https://www.joongang.co.kr/article/23784494\\', \\'content\\': \\'| 중앙일보 중앙일보 회원에게만 제공되는 스페셜 콘텐트 중앙일보 넷플릭스 다큐멘터리 ‘그래도 지구는 평평하다’(2018)는 지구가 평평하다고 믿는 지구 평면론자들의 이야기다. 주인공 격인 마크 서전트를 비롯한 지구 평면론자들의 주장을 요약하면, 지구는 북극을 중심으로 한 원반 모양이며 그 끝은 약 60m 높이의 남극 얼음벽으로 둘러싸여 있다. # 지구) The JoongAng Plus The JoongAng Plus 서비스 더보기 오피니언 서비스 더보기 정치 서비스 더보기 경제 서비스 더보기 사회 서비스 더보기 국제 서비스 더보기 문화 서비스 더보기 스포츠 서비스 더보기 라이프 서비스 더보기 피플 서비스 더보기 스페셜_서비스 더보기_ 중앙일보 중앙일보 회원이 되어주세요!회원에게만 제공되는 편의 기능이 궁금하신가요? 중앙일보 회원에게만 제공되는 스페셜 콘텐트 뉴스레터 메일 수신중앙일보는 뉴스레터, 기타 구독 서비스 제공 목적으로 개인 정보를 수집·이용 합니다. ‘구독 서비스’ 신청자는 원칙적으로 개인정보 수집 · 이용에 대해 거부할 권리를 가지고 있습니다.\\', \\'score\\': 0.84246206, \\'raw_content\\': None}]'}, {'role': 'tool', 'tool_call_id': 'call_KDCh1tGCKRrCzL06BaowSP3m', 'content': '[{\\'title\\': \\'『지구와 사람은 어떻게 생겨났을까?』 - 중앙일보\\', \\'url\\': \\'https://www.joongang.co.kr/article/3680596\\', \\'content\\': \\'그리고 우주는 지구를 중심으로 돈다고 여겼다. 하지만 지금으로부터 450여 년 전, 폴란드의 천문학자 코페르니쿠스는 지구가 태양의 주변을 돈다는 사실을 발견해냈다. 사람들은 우주의 중심이 지구가 아님을 알게 됐다. ... 지구는 1년 동안 태양계를 한 바퀴씩\\', \\'score\\': 0.8719229, \\'raw_content\\': None}, {\\'title\\': \\'서평-아는 만큼 보이는 세상 : 우주 편 (양자역학, 상대성이론을 몰라도 이해하는 우주 첫걸음)/(마쓰바라 다카히코 저/송경원 ...\\', \\'url\\': \\'https://issac95.tistory.com/237\\', \\'content\\': \\'모든 것은 지구를 중심으로 돈다는 생각ㆍ천동설 \"그래도 지구는 돈다!\"ㆍ지동설. 과연 우주는 끝이 없을까?ㆍ무한 우주론. 기차에서 발견하는 우주의 비밀ㆍ지동설의 증거. 제2의 지구는 정말로 있을까?ㆍ외계 행성의 발견\\', \\'score\\': 0.80735475, \\'raw_content\\': None}]'}]\n"
     ]
    },
    {
     "data": {
      "text/plain": [
       "'1. 지구는 평평하다\\n   - 제목: 지구는 평평하다\\n   - 내용: 지구는 평평하다는 주장은 역사적으로 그런 견해를 가진 사람들에게서 비롯되었습니다. 그러나 과학적 증거에 따르면 지구는 구형입니다.\\n   - 링크: [지구 평평론 - 위키백과](https://ko.wikipedia.org/wiki/%EC%A7%80%ED%9B%88%EC%84%B1)\\n\\n2. 우주는 지구를 중심으로 돈다\\n   - 제목: 우주는 지구를 중심으로 돈다\\n   - 내용: 고대에는 지구가 우주의 중심이라고 믿는 지구 중심설이 있었습니다. 현재의 과학적 이해에 따르면 지구는 태양계의 행성 중 하나입니다.\\n   - 링크: [지구와 사람들은 어떻게 돌았는가?](https://www.joongang.co.kr/article/3680596)'"
      ]
     },
     "execution_count": 56,
     "metadata": {},
     "output_type": "execute_result"
    }
   ],
   "source": [
    "searched_result = search_agent.generate(searched_keywords)\n",
    "searched_result"
   ]
  },
  {
   "cell_type": "code",
   "execution_count": 53,
   "metadata": {},
   "outputs": [
    {
     "data": {
      "text/plain": [
       "'1. **지구는 평평하다** - **거짓**\\n   - 근거: 지구의 형상에 대한 현대 과학의 이해에 따르면, 지구는 구형이며, 이는 아리스토텔레스(기원전 4세기 경)의 주장 등을 통해 역사적으로도 입증되었습니다. 평평하다는 주장은 과학적 증거에 의해 반박되어 왔습니다. \\n   - 링크: [위키백과 - 지구](https://ko.wikipedia.org/wiki/%EC%A7%80%ED%9B%84%EC%84%A4)\\n\\n2. **우주는 지구를 중심으로 돈다** - **거짓**\\n   - 근거: 과학적 연구와 관측을 통해 지구 이외의 많은 천체가 존재하며, 태양 주위에서 지구가 공전한다는 것은 알려진 사실입니다. 지구 중심적 사고는 역사적으로 존재했으나, 현대의 천문학에서는 이를 부정하고 있습니다. \\n   - 링크: [중앙일보 기사](https://www.joongang.co.kr/article/3680596)'"
      ]
     },
     "execution_count": 53,
     "metadata": {},
     "output_type": "execute_result"
    }
   ],
   "source": [
    "verdict = verdict_agent.generate(searched_result)\n",
    "verdict"
   ]
  },
  {
   "cell_type": "code",
   "execution_count": null,
   "metadata": {},
   "outputs": [],
   "source": []
  }
 ],
 "metadata": {
  "kernelspec": {
   "display_name": ".venv",
   "language": "python",
   "name": "python3"
  },
  "language_info": {
   "codemirror_mode": {
    "name": "ipython",
    "version": 3
   },
   "file_extension": ".py",
   "mimetype": "text/x-python",
   "name": "python",
   "nbconvert_exporter": "python",
   "pygments_lexer": "ipython3",
   "version": "3.13.1"
  }
 },
 "nbformat": 4,
 "nbformat_minor": 2
}

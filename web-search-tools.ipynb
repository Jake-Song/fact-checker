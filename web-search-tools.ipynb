{
 "cells": [
  {
   "cell_type": "code",
   "execution_count": 36,
   "metadata": {},
   "outputs": [
    {
     "name": "stdout",
     "output_type": "stream",
     "text": [
      "None\n"
     ]
    }
   ],
   "source": [
    "from openai import OpenAI\n",
    "\n",
    "client = OpenAI()\n",
    "\n",
    "tools = [{\n",
    "    \"type\": \"function\",\n",
    "    \"function\": {\n",
    "        \"name\": \"search_tavily\",\n",
    "        \"description\": \"Search the web for a given query.\",\n",
    "        \"parameters\": {\n",
    "            \"type\": \"object\",\n",
    "            \"properties\": {\n",
    "                \"query\": {\n",
    "                    \"type\": \"string\",\n",
    "                    \"description\": \"City and country e.g. Bogotá, Colombia\"\n",
    "                }\n",
    "            },\n",
    "            \"required\": [\n",
    "                \"query\"\n",
    "            ],\n",
    "            \"additionalProperties\": False\n",
    "        },\n",
    "        \"strict\": True\n",
    "    }\n",
    "}]\n",
    "\n",
    "completion = client.chat.completions.create(\n",
    "    model=\"gpt-4o\",\n",
    "    messages=[{\"role\": \"user\", \"content\": \"인터넷 검색 가능해?\"}],\n",
    "    tools=tools\n",
    ")\n",
    "\n",
    "print(completion.choices[0].message.tool_calls)"
   ]
  },
  {
   "cell_type": "code",
   "execution_count": 37,
   "metadata": {},
   "outputs": [
    {
     "data": {
      "text/plain": [
       "'응, 인터넷으로 검색할 수 있어. 도움이 필요하면 검색할 내용을 알려줘!'"
      ]
     },
     "execution_count": 37,
     "metadata": {},
     "output_type": "execute_result"
    }
   ],
   "source": [
    "completion.choices[0].message.content"
   ]
  },
  {
   "cell_type": "code",
   "execution_count": 11,
   "metadata": {},
   "outputs": [],
   "source": [
    "import os\n",
    "from tavily import TavilyClient\n",
    "import json"
   ]
  },
  {
   "cell_type": "code",
   "execution_count": 12,
   "metadata": {},
   "outputs": [],
   "source": [
    "tavily_client = TavilyClient(api_key=f\"{os.getenv('TAVILY_API_KEY')}\")\n",
    "\n",
    "def search_tavily(query):\n",
    "    response = tavily_client.search(\n",
    "        query=query\n",
    "    )\n",
    "    return response['results']"
   ]
  },
  {
   "cell_type": "code",
   "execution_count": 30,
   "metadata": {},
   "outputs": [],
   "source": [
    "tool_call = completion.choices[0].message.tool_calls[0]\n",
    "args = json.loads(tool_call.function.arguments)\n",
    "\n",
    "result = search_tavily(args[\"query\"])"
   ]
  },
  {
   "cell_type": "code",
   "execution_count": 31,
   "metadata": {},
   "outputs": [
    {
     "data": {
      "text/plain": [
       "[{'title': '9 Things That Are NEW in Paris for 2025! - france-hotel-guide.com',\n",
       "  'url': 'https://www.france-hotel-guide.com/en/blog/new-in-paris-2025/',\n",
       "  'content': 'Paris is always changing, and 2025 is bringing some incredible new attractions, events, and openings to the city. Why It’s Special: This ephemeral artwork underscores Paris’s commitment to contemporary art while celebrating its historical landmarks. After years of meticulous renovation, the iconic Grand Palais is set to reopen in 2025, returning as one of Paris’s most important cultural landmarks. Whether attending a high-profile event or simply admiring its grandeur, the reopening marks a new chapter for Paris’s artistic community. The Palais de la Découverte, Paris’s beloved science museum, will reopen in 2025 after a significant overhaul. Une publication partagée par Restaurant Le Mouton Blanc 🐑 (@lemoutonblanc_paris) Benihana Teppanyaki Restaurant Opening in Paris Une publication partagée par | Benihana • Paris | (@benihanaparis) The 7 Best 5-Star Hotels in Paris',\n",
       "  'score': 0.8790744,\n",
       "  'raw_content': None},\n",
       " {'title': \"Paris: what's new for visitors in 2025 - Lonely Planet\",\n",
       "  'url': 'https://www.lonelyplanet.com/news/visiting-paris-whats-different-2025',\n",
       "  'content': 'Paris: what’s new for visitors in 2025 - Lonely Planet Paris will see exciting changes in 2025, from museum openings to urban beaches along the Seine and handy new transport options for both locals and tourists. While Paris gets a major new art museum this year, another landmark museum will temporarily close. Paris’ new Seine-side beaches open in 2025 The new swimming areas will complement the city’s annual Paris Plages (Paris Beaches) event, which transforms the banks of the Seine into a summer-long outdoor festival. Some sad news for travelers who like to visit physical reception centers for face-to-face conversations with tourist advisors: citing changes to visitor consumer habits and declining use, Paris closed its last remaining tourist-information center earlier this year.',\n",
       "  'score': 0.8682137,\n",
       "  'raw_content': None},\n",
       " {'title': '4 major cultural events that will mark 2025 in Paris',\n",
       "  'url': 'https://culturezvous.com/en/4-major-cultural-events-paris-2025/',\n",
       "  'content': '4 major cultural events that will mark 2025 in Paris 4 major cultural events that will mark 2025 in Paris In Paris, 2025 will be marked by major new cultural events. Currently located on boulevard Raspail,\\xa0the Fondation Cartier will pack its bags at the end of 2025 and move to the heart of Paris, 2 place du Palais Royal, a stone’s throw from the Louvre Museum, in a new building designed by architect Jean Nouvel. To mark this 40th anniversary, artist JR, in collaboration with the Fondation Christo et Jeanne-Claude, has come up with Projet Pont-Neuf\\xa0: the transformation of the Pont Neuf into a grotto! Comments to: 4 major cultural events that will mark 2025 in Paris Culturez-vous is an\\xa0Art, Culture and Travel blog.',\n",
       "  'score': 0.8430832,\n",
       "  'raw_content': None},\n",
       " {'title': 'Ces grands projets qui vont changer Paris en 2025',\n",
       "  'url': 'https://www.paris.fr/pages/ces-grands-projets-qui-vont-changer-paris-en-2025-29924',\n",
       "  'content': 'Dix ans plus tard, dans un contexte international où cet accord est remis en question, l’Hôtel de Ville accueillera l’exposition «\\xa0De Paris à Belém\\xa0», présentant les grandes transformations engagées par les villes et leurs habitants pour la biodiversité, le climat, la qualité de l’air, de l’eau. D’ici à la fin de 2025, deux nouvelles forêts urbaines verront le jour, après celle de la place de Catalogne en 2024\\xa0: l’une sur le parvis de l’Hôtel de Ville, dont les aménagements et les plantations ont commencé, l’autre place du Colonel Fabien, dans le 10e. Dès février, de nouvelles mesures pour la biodiversité seront présentées en Conseil de Paris, afin de favoriser l’accueil et la protection de la faune et de la flore sauvage, notamment les hérissons, grâce à la création d’une ferme qui leur est destinée dans le bois de Vincennes.',\n",
       "  'score': 0.756376,\n",
       "  'raw_content': None},\n",
       " {'title': 'Best things to do in Paris 2025, according to a local | CN Traveller',\n",
       "  'url': 'https://www.cntraveller.com/gallery/best-things-to-do-in-paris',\n",
       "  'content': \"Explore one of Paris's grandest monuments in an enchanting immersive experience. ... In 2025, the 17th-century monument will be the site of Aura Invalides, an immersive experience held several evenings a week after closing hours. The visitor is guided through a series of projections and light shows set to classical music in a 50-minute show\",\n",
       "  'score': 0.751375,\n",
       "  'raw_content': None}]"
      ]
     },
     "execution_count": 31,
     "metadata": {},
     "output_type": "execute_result"
    }
   ],
   "source": [
    "result"
   ]
  },
  {
   "cell_type": "code",
   "execution_count": 32,
   "metadata": {},
   "outputs": [],
   "source": [
    "messages=[{\"role\": \"user\", \"content\": \"What are landmarks in Paris 2025?\"}]"
   ]
  },
  {
   "cell_type": "code",
   "execution_count": 33,
   "metadata": {},
   "outputs": [],
   "source": [
    "messages.append(completion.choices[0].message)  # append model's function call message\n",
    "messages.append({                               # append result message\n",
    "    \"role\": \"tool\",\n",
    "    \"tool_call_id\": tool_call.id,\n",
    "    \"content\": str(result)\n",
    "})\n",
    "\n",
    "completion_2 = client.chat.completions.create(\n",
    "    model=\"gpt-4o\",\n",
    "    messages=messages,\n",
    "    tools=tools,\n",
    ")"
   ]
  },
  {
   "cell_type": "code",
   "execution_count": 34,
   "metadata": {},
   "outputs": [
    {
     "data": {
      "text/plain": [
       "'In 2025, Paris will feature several new and rejuvenated landmarks alongside its traditional attractions:\\n\\n1. **Grand Palais**: After years of renovation, this iconic cultural landmark will reopen in 2025. It is set to resume its role as an important venue for events and exhibitions, marking a new chapter in Paris\\'s artistic community.\\n\\n2. **Palais de la Découverte**: This beloved science museum will also reopen after a significant overhaul, offering visitors new scientific exhibits and experiences.\\n\\n3. **Seine-side Beaches**: New urban beaches will be introduced along the Seine, complementing the annual Paris Plages event. These new areas will allow locals and tourists to enjoy swimming and leisure activities by the river in central Paris.\\n\\n4. **Pont Neuf Transformation**: To celebrate its 40th anniversary, renowned artist JR, in collaboration with Fondation Christo et Jeanne-Claude, plans to transform the Pont Neuf into a grotto, offering a unique artistic experience.\\n\\n5. **Urban Forests**: Paris plans to create new urban forests by the end of 2025, one on the forecourt of the Hôtel de Ville and another at Place du Colonel Fabien in the 10th arrondissement, enriching the city\\'s green spaces and biodiversity.\\n\\n6. **Aura Invalides**: An immersive experience known as \"Aura Invalides\" will be held at the 17th-century monument, featuring projections and light shows set to classical music.\\n\\nThese updates and projects illustrate Paris\\'s commitment to enhancing its cultural and environmental landscape in 2025.'"
      ]
     },
     "execution_count": 34,
     "metadata": {},
     "output_type": "execute_result"
    }
   ],
   "source": [
    "completion_2.choices[0].message.content"
   ]
  },
  {
   "cell_type": "code",
   "execution_count": null,
   "metadata": {},
   "outputs": [],
   "source": []
  }
 ],
 "metadata": {
  "kernelspec": {
   "display_name": ".venv",
   "language": "python",
   "name": "python3"
  },
  "language_info": {
   "codemirror_mode": {
    "name": "ipython",
    "version": 3
   },
   "file_extension": ".py",
   "mimetype": "text/x-python",
   "name": "python",
   "nbconvert_exporter": "python",
   "pygments_lexer": "ipython3",
   "version": "3.13.1"
  }
 },
 "nbformat": 4,
 "nbformat_minor": 2
}

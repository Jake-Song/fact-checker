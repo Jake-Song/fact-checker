{
 "cells": [
  {
   "cell_type": "code",
   "execution_count": 1,
   "metadata": {},
   "outputs": [
    {
     "data": {
      "text/plain": [
       "True"
      ]
     },
     "execution_count": 1,
     "metadata": {},
     "output_type": "execute_result"
    }
   ],
   "source": [
    "import os\n",
    "from dotenv import load_dotenv\n",
    "from tavily import TavilyClient\n",
    "from openai import OpenAI\n",
    "load_dotenv()\n"
   ]
  },
  {
   "cell_type": "code",
   "execution_count": 2,
   "metadata": {},
   "outputs": [],
   "source": [
    "client = OpenAI()"
   ]
  },
  {
   "cell_type": "code",
   "execution_count": 3,
   "metadata": {},
   "outputs": [],
   "source": [
    "system_prompt = \"\"\"\n",
    "당신은 고도로 숙련된 팩트체크 전문가입니다. 인터넷 기사나 소셜 미디어 포스팅에 포함된 주장을 철저히 분석하고, 신뢰할 수 있는 증거와 자료를 바탕으로 각 주장에 대한 진위를 검증하는 임무를 수행합니다. 다음의 지침을 엄격히 준수하세요:\n",
    "\n",
    "사실 확인 대상 식별:\n",
    "\n",
    "텍스트 내의 주요 사실, 주장, 통계 및 인용구를 면밀히 식별합니다.\n",
    "주장별로 핵심 내용을 분리하여 분석합니다.\n",
    "신뢰할 수 있는 출처 조사:\n",
    "\n",
    "학술 연구, 정부 발표, 공신력 있는 뉴스 매체, 공식 기관의 자료 등 신뢰할 수 있는 다양한 출처를 활용하여 각 주장을 검증합니다.\n",
    "가능한 경우, 여러 출처에서 동일한 정보를 교차 확인합니다.\n",
    "객관적 분석 및 결과 분류:\n",
    "\n",
    "각 주장에 대해 ‘확인됨’, ‘불확실함’, ‘거짓’ 등 명확한 분류를 제공합니다.\n",
    "검증 과정에서 나타난 모순점이나 불일치를 명확하게 기술합니다.\n",
    "출처 및 증거 명시:\n",
    "\n",
    "검증에 사용한 모든 출처를 구체적으로 명시하고, 각 출처의 신뢰도와 관련 정보를 함께 제공합니다.\n",
    "인용 시에는 출처를 정확히 밝히고, 출처의 최신성을 고려합니다.\n",
    "추가 검토 및 권고:\n",
    "\n",
    "검증 과정에서 추가 확인이 필요한 사항이나, 명확한 결론을 내리기 어려운 부분이 있다면 이에 대해 추가 조사를 권고합니다.\n",
    "편향이나 오해의 소지가 있는 표현에 대해 객관적인 설명을 덧붙입니다.\n",
    "보고서 작성:\n",
    "\n",
    "전체 분석 과정을 명확하고 구조적으로 정리하여, 각 주장에 대한 평가와 결론을 일목요연하게 제시합니다.\n",
    "분석 결과를 쉽게 이해할 수 있도록 표나 목록 등을 활용합니다.\n",
    "항상 객관적이고 증거 기반의 접근을 유지하며, 개인적 의견이나 추측 없이 사실에 근거한 분석만을 제공하세요. \n",
    "\"\"\"\n"
   ]
  },
  {
   "cell_type": "code",
   "execution_count": 4,
   "metadata": {},
   "outputs": [],
   "source": [
    "def generate_text(system_prompt, user_prompt):\n",
    "    response = client.chat.completions.create(\n",
    "        model=\"gpt-4o-mini\",\n",
    "        messages=[\n",
    "            {\"role\": \"system\", \"content\": system_prompt},\n",
    "            {\"role\": \"user\", \"content\": user_prompt}\n",
    "        ],\n",
    "        response_format={\n",
    "            \"type\": \"json_schema\",\n",
    "            \"json_schema\": {\n",
    "                \"name\": \"keywords_schema\",\n",
    "                \"schema\": {\n",
    "                    \"type\": \"object\",\n",
    "                    \"properties\": {\n",
    "                        \"keywords\": {\n",
    "                            \"description\": \"The keywords that are used to search for fact-checking\",\n",
    "                            \"type\": \"array\",\n",
    "                            \"items\": {\n",
    "                                \"type\": \"string\"\n",
    "                            }\n",
    "                        },\n",
    "                        \"additionalProperties\": False\n",
    "                    }\n",
    "                }\n",
    "            }\n",
    "        }\n",
    "    )\n",
    "    return response.choices[0].message.content"
   ]
  },
  {
   "cell_type": "code",
   "execution_count": 5,
   "metadata": {},
   "outputs": [
    {
     "data": {
      "text/plain": [
       "'{\"keywords\":[\"지구 평평설\",\"지구 둥글다\",\"지구 형태 과학적 증거\",\"지구의 형태 주장 검증\",\"평평한 지구 이론 사실 확인\"]}'"
      ]
     },
     "execution_count": 5,
     "metadata": {},
     "output_type": "execute_result"
    }
   ],
   "source": [
    "generate_text(system_prompt, \"지구는 평평하다\")"
   ]
  },
  {
   "cell_type": "code",
   "execution_count": 14,
   "metadata": {},
   "outputs": [],
   "source": [
    "tavily_prompt = \"\"\"\n",
    "당신은 고도로 숙련된 팩트 체크 전문가입니다. 주어진 텍스트(인터넷 기사나 SNS 포스팅 등)에서 여러 주장이 포함되어 있을 때, 각 주장이나 논점을 세분화하고 이를 뒷받침할 근거를 찾기 위한 최적의 검색어를 추천하는 임무를 수행합니다. 아래 지침을 엄격히 준수하세요:\n",
    "\n",
    "주장 및 논점 세분화:\n",
    "\n",
    "텍스트 내에서 확인할 주요 주장, 통계, 인용, 사건 및 논점을 면밀히 식별합니다.\n",
    "각 주장별 핵심 요소(예: 인물, 사건, 날짜, 장소, 수치 등)를 분리하여 목록화합니다.\n",
    "근거 자료 탐색용 검색어 도출:\n",
    "\n",
    "각 주장에 대해 신뢰할 수 있는 근거 자료(학술 연구, 정부 발표, 공신력 있는 뉴스, 공식 기관 자료 등)를 찾을 수 있도록 구체적인 키워드를 생성합니다.\n",
    "해당 주장과 관련된 핵심 용어, 동의어, 사건명, 날짜, 장소 등을 포함하여 검색어의 정확도를 높입니다.\n",
    "고급 검색 연산자 활용 제안:\n",
    "\n",
    "검색 결과의 정밀도를 높이기 위해 큰따옴표(\"\"), AND, OR, - 등의 고급 검색 연산자를 어떻게 활용할 수 있을지 구체적인 예시와 함께 제안합니다.\n",
    "예를 들어, \"주장내용\" AND \"출처명\" 같은 형태의 검색어를 추천합니다.\n",
    "최신 정보 및 신뢰도 고려:\n",
    "\n",
    "최신 기사나 공식 자료를 우선적으로 찾을 수 있도록 '최신', '2025', '최근' 등의 단어를 포함한 검색어 옵션을 제공합니다.\n",
    "여러 출처에서 동일한 정보를 확인할 수 있는 조합 검색어를 함께 제시합니다.\n",
    "검색 전략 보고서 작성:\n",
    "\n",
    "각 주제나 주장별로 추천 검색어 리스트를 제시하고, 각 검색어가 왜 효과적인지 간략한 설명을 덧붙입니다.\n",
    "사용자에게 검색어 선택의 이유와 기대되는 검색 결과의 유형(예: 통계, 공식 발표, 학술 자료 등)을 명확히 안내합니다.\n",
    "\n",
    "\"\"\""
   ]
  },
  {
   "cell_type": "code",
   "execution_count": 38,
   "metadata": {},
   "outputs": [
    {
     "data": {
      "text/plain": [
       "'{\"keywords\":[\"2024년 한국 총선\",\"중국 개입 부정선거\",\"한국 총선 부정선거\",\"2024년 총선 결과\",\"중국 정치 개입\",\"한국 선거 부정행위\",\"2024년 한국 총선 의혹\",\"최근 한국 총선\",\"부정선거 사례\",\"중국의 한국 내 영향\"]}'"
      ]
     },
     "execution_count": 38,
     "metadata": {},
     "output_type": "execute_result"
    }
   ],
   "source": [
    "keywords = generate_text(tavily_prompt, \"한국의 지난 2024년 총선은 중국이 개입한 부정선거다.\")\n",
    "keywords\n"
   ]
  },
  {
   "cell_type": "code",
   "execution_count": 5,
   "metadata": {},
   "outputs": [],
   "source": [
    "tavily_client = TavilyClient(api_key=f\"{os.getenv('TAVILY_API_KEY')}\")"
   ]
  },
  {
   "cell_type": "code",
   "execution_count": 6,
   "metadata": {},
   "outputs": [],
   "source": [
    "def search_tavily(query):\n",
    "    response = tavily_client.search(\n",
    "        query=query\n",
    "    )\n",
    "    return response\n"
   ]
  },
  {
   "cell_type": "code",
   "execution_count": 39,
   "metadata": {},
   "outputs": [
    {
     "data": {
      "text/plain": [
       "'{\"keywords\":[\"2024년 한국 총선\",\"중국 개입 부정선거\",\"한국 총선 부정선거\",\"2024년 총선 결과\",\"중국 정치 개입\",\"한국 선거 부정행위\",\"2024년 한국 총선 의혹\",\"최근 한국 총선\",\"부정선거 사례\",\"중국의 한국 내 영향\"]}'"
      ]
     },
     "execution_count": 39,
     "metadata": {},
     "output_type": "execute_result"
    }
   ],
   "source": [
    "keywords"
   ]
  },
  {
   "cell_type": "code",
   "execution_count": 40,
   "metadata": {},
   "outputs": [],
   "source": [
    "import json\n",
    "keywords = json.loads(keywords)"
   ]
  },
  {
   "cell_type": "code",
   "execution_count": 24,
   "metadata": {},
   "outputs": [
    {
     "name": "stdout",
     "output_type": "stream",
     "text": [
      "['2024 한국 총선 부정선거', '중국 개입 한국 선거', '한국 총선 외국 개입', '2024년 한국 총선 논란', '정치적 조작 한국 총선', '한국 총선 진실', '중국 정치 개입', '2024 한국 총선 결과 분석', '부정선거 증거 한국 총선', '중국 소셜 미디어 한국 총선']\n"
     ]
    }
   ],
   "source": [
    "for keyword in keywords.values():\n",
    "    print(keyword)"
   ]
  },
  {
   "cell_type": "code",
   "execution_count": 41,
   "metadata": {},
   "outputs": [],
   "source": [
    "keywords['keywords'] = keywords['keywords'][:3]"
   ]
  },
  {
   "cell_type": "code",
   "execution_count": 42,
   "metadata": {},
   "outputs": [
    {
     "data": {
      "text/plain": [
       "{'keywords': ['2024년 한국 총선', '중국 개입 부정선거', '한국 총선 부정선거']}"
      ]
     },
     "execution_count": 42,
     "metadata": {},
     "output_type": "execute_result"
    }
   ],
   "source": [
    "keywords"
   ]
  },
  {
   "cell_type": "code",
   "execution_count": 35,
   "metadata": {},
   "outputs": [],
   "source": [
    "def process_data(keywords):\n",
    "    results = {}\n",
    "    for keywords in keywords.values():\n",
    "        for keyword in keywords:\n",
    "            results[keyword] = search_tavily(keyword)\n",
    "    return results"
   ]
  },
  {
   "cell_type": "code",
   "execution_count": 43,
   "metadata": {},
   "outputs": [
    {
     "data": {
      "text/plain": [
       "{'2024년 한국 총선': {'query': '2024년 한국 총선',\n",
       "  'follow_up_questions': None,\n",
       "  'answer': None,\n",
       "  'images': [],\n",
       "  'results': [{'title': '2024 총선 - Kbs 뉴스',\n",
       "    'url': 'https://news.kbs.co.kr/special/election2024/main.html',\n",
       "    'content': '2024 총선 | 제 22대 국회의원 선거와 관련된 정보를 빠르고 정확하게 알려드립니다. 여론조사, 선거뉴스, 선거영상 등 다양한 콘텐츠를 kbs 총선 특집사이트에서 확인하세요. ... 4년 (2024.5.30. ~ 2028.5.29.) 재·보궐선거는 전임자의 잔여 임기',\n",
       "    'score': 0.7610953,\n",
       "    'raw_content': None},\n",
       "   {'title': '대한민국 제22대 국회의원 선거 - 위키백과, 우리 모두의 백과사전',\n",
       "    'url': 'https://ko.wikipedia.org/wiki/대한민국_제22대_국회의원_선거',\n",
       "    'content': '대한민국 제22대 국회의원 선거는 2024년 4월 10일에 실시된 대한민국의 국회의원 선거이다. 지역구 국회의원 254명, 비례대표 국회의원 46명을 선출하였다. 국회의원 총선거와 함께 2024년 4월 대한민국 재보궐선거도 동시에 치러졌다.. 이 선거는 윤석열 정부 집권 3년차에 접어들기 직전에 치러지는',\n",
       "    'score': 0.69672287,\n",
       "    'raw_content': None},\n",
       "   {'title': '2024 총선: 집권당 역대급 참패 원인과 앞으로의 전망 - Bbc',\n",
       "    'url': 'https://www.bbc.com/korean/articles/crgyxz146x3o',\n",
       "    'content': '2024 총선; 한국; 관련 기사 더 보기 ... 2024년 4월 5일. 22대 총선 개표 결과 보기 2024년 4월 11일',\n",
       "    'score': 0.6867278,\n",
       "    'raw_content': None},\n",
       "   {'title': '2024년 한국 총선결과 - Kbdio',\n",
       "    'url': 'https://www.kbdio.com/2612',\n",
       "    'content': '반면 집권 여당인 국민의힘은 4년 전과 비슷한 모습으로 완패했다. 개표율이 약 99.82%를 기록한 11일 오전 7시 현재 민주당은 서울 강남권과 경기 동부권을 제외한 수도권 대부분 지역을 석권했다. ... 총선 승패를 좌우하는 수도권에서 민주당은 서울 48곳 중 37곳',\n",
       "    'score': 0.6862234,\n",
       "    'raw_content': None},\n",
       "   {'title': '2024 총선 - BBC News 코리아',\n",
       "    'url': 'https://www.bbc.com/korean/topics/ck500rxje65t',\n",
       "    'content': \"22대 총선 개표 결과 보기 2024년 4월 11일 ... 박충권이 누구야?...'북한 미사일 개발자' 한국 국회의원 되다 2024년 4월 11일\",\n",
       "    'score': 0.63615024,\n",
       "    'raw_content': None}],\n",
       "  'response_time': 1.59},\n",
       " '중국 개입 부정선거': {'query': '중국 개입 부정선거',\n",
       "  'follow_up_questions': None,\n",
       "  'answer': None,\n",
       "  'images': [],\n",
       "  'results': [{'title': '중국 관영매체, \"우린 대한민국 부정선거 개입 안했다\" 취지 주장',\n",
       "    'url': 'http://www.fntoday.co.kr/news/articleView.html?idxno=344986',\n",
       "    'content': '중국이 대한민국의 선거에 자신들은 개입한 적이 없다고 발뺌하고 나섰다. 윤석열 대통령의 비상계엄 선포의 목적 중 하나가 부정선거 의혹을 밝히기 위함이었다는 것이 전해지면서 부정선거 의혹에 대한 실체적인 검증이 필요하다는 분위기가 조성되고 있다.이 와중에 중국 정부 입장을 대변하는',\n",
       "    'score': 0.77364457,\n",
       "    'raw_content': None},\n",
       "   {'title': '中, 부정선거 개입설 입 열었다…\"한국 내정 우리와 연계 말라\" | 중앙일보',\n",
       "    'url': 'https://www.joongang.co.kr/article/25312625',\n",
       "    'content': '주한 중국 대사관이 국내 일각에서 제기되는 중국의 부정선거 개입설에 대해 \"한국 내정 문제를 중국과 무리하게 연계시키는 것을 반대한다\"고 밝혔다. 한편 중국 대사관은 이날 입장문에서 윤석열 대통령 지지자 일부를 중심으로 확산하는 반중 정서를 의식한 듯 \"한국 측이 재한 중국 국민들의',\n",
       "    'score': 0.76596165,\n",
       "    'raw_content': None},\n",
       "   {'title': '[심층분석] 중국의 4·10 총선 개입 주시해야 - 미래한국 Weekly',\n",
       "    'url': 'https://www.futurekorea.co.kr/news/articleView.html?idxno=147135',\n",
       "    'content': '지난 대선 때까지 \\'중국 해킹\\' 의혹의 근거가 됐던 사전투표용지 qr코드도 바코드로 바꾸는 방안도 검토하고 있다. \"qr코드가 부정선거 의혹의 근본 원인 중 하나여서 해소하기 위한 목적\"이라는 게 국민의힘 공정선거제도개선 특별위원회 관계자의 설명',\n",
       "    'score': 0.63750535,\n",
       "    'raw_content': None},\n",
       "   {'title': '중국 \"中의 \\'한국 부정선거 개입\\' 음모론, 韓 보수가 조작한 정치 희극\"',\n",
       "    'url': 'https://www.hankookilbo.com/News/Read/A2025021111440001969',\n",
       "    'content': \"윤석열 대통령의 불법 비상계엄 선포·내란 시도 사태와 관련해 '친(親)윤석열 세력'을 중심으로 제기되는 '부정선거 및 중국 개입설'을 두고 중국이\",\n",
       "    'score': 0.63125396,\n",
       "    'raw_content': None},\n",
       "   {'title': '[단독] 선관위, 중국인 부정선거 개입설 일축…\"외국인에 안 맡겨\"',\n",
       "    'url': 'https://www.hani.co.kr/arti/politics/assembly/1179248.html',\n",
       "    'content': '윤석열 대통령 쪽이 헌법재판소 탄핵심판에서 중앙선거관리위원회 선거 관리에 중국인이 개입했다는 주장을 제기하는 가운데, 선관위가 헌재에',\n",
       "    'score': 0.61972505,\n",
       "    'raw_content': None}],\n",
       "  'response_time': 1.77},\n",
       " '한국 총선 부정선거': {'query': '한국 총선 부정선거',\n",
       "  'follow_up_questions': None,\n",
       "  'answer': None,\n",
       "  'images': [],\n",
       "  'results': [{'title': '부정선거 의혹 증거 모음 (1) 이래도 부정선거가 아니라고?',\n",
       "    'url': 'http://www.fntoday.co.kr/news/articleView.html?idxno=340455',\n",
       "    'content': '부정선거 의혹 증거 모음 (1) 이래도 부정선거가 아니라고? 부정선거 부정선거 부정선거 [유상범 페이스북] 국민의힘 원내대책회의(25.01.14.) [유상범 페이스북] 국민의힘 원내대책회의(25.01.14.) [유상범 페이스북] 국민의힘 법제사법위원 기자회견 전문(25.01.13.) [유상범 페이스북] 국민의힘 법제사법위원 기자회견 전문(25.01.13.) 부정선거 의혹 증거 모음 (1) 이래도 부정선거가 아니라고? HOME 핫이슈 부정선거 부정선거 의혹 증거 모음 (1) 이래도 부정선거가 아니라고? 본지는 지난 21대 총선(2020), 22대 총선(2024)에서 선거부정(부정선거)가 발생했다는 의혹에 대해 진실을 알리기 위해 노력해 왔다. 오산시에서 공개된 비정상 투표지를 본 관련 온라인 카페 및 커뮤니티에서는 면 \"이건 명백한 부정선거 증거인데?\" \"이래도 부정선거가 아니라고?\" 라는 반응과 함께 \"대법원을 믿을 수 없으니 국민들이 심판을 해야 한다\"는 목소리가 높아지고 있다. 尹 지지율 43% 최고치..정당 지지율도 국민의힘 우세 (파이낸스투데이&더퍼블릭 공동여론조사) [여론조사] 윤석열 대통령 지지율 45.3%...국민의힘 44.5% VS 민주당 39.9% (파이낸스투데이-더퍼블릭 공동) 尹 지지율 43%..정당 지지도도 국민의힘 우세 (파이낸스투데이&더퍼블릭 공동여론조사)',\n",
       "    'score': 0.6506676,\n",
       "    'raw_content': None},\n",
       "   {'title': '부정선거 의혹, 음지에서 양지로?…심상찮은 분위기 | 한국경제',\n",
       "    'url': 'https://www.hankyung.com/article/2025012485807',\n",
       "    'content': '사진=전한길 유튜브 민경욱 전 의원이 21대 총선 낙선 뒤 제기한 부정선거 의혹이 2025년 정치권을 강타하고 있다. 줄곧 터무니없는 음모론으로',\n",
       "    'score': 0.6407488,\n",
       "    'raw_content': None},\n",
       "   {'title': '개표 조작, 사전투표 조작 모두 음모일 뿐... 부정선거 주장 뜯어봤더니 | 한국일보',\n",
       "    'url': 'https://www.hankookilbo.com/News/Read/A2025012314350003031',\n",
       "    'content': '부정선거 주장 뜯어봤더니 | 한국일보 윤 대통령 측은 국가정보원의 선관위 보안점검 결과, 통합선거인 명부의 내용을 변경할 수 있다고 주장했지만, 이는 \\'모의해킹\\'을 전제로 한 것이다. 이 모든 걸 뚫고 부정선거를 실행하기 위해선 고도의 전산 기술과 해킹 능력, 대규모의 인력과 조직, 이를 뒷받침해줄 막대한 재원이 필요한 셈인데 대법원은 \\'부정선거 실행 주체 및 증명이 이뤄지지 않았다\\'며 주장을 기각했다. 선관위 또한 \"명백한 허위사실\"이라며 \"계엄 당일 선거연수원엔 5급 승진자 50명 및 6급 보직자 69명을 대상으로 교육과정을 운영하고 있었으며, 이 가운데 공무원 88명, 외부 감사 8명 등 총 96명이 숙박하고 있었다\"고 밝혔다. 한국일보가 회원을 위해 제공하는 뉴스레터 등 모든 뉴스 서비스(뉴스, 영상, 뉴스 서비스 기반 이벤트 및 프로모션, 새로운 포맷 콘텐츠) 등 추천·안내 개인정보 보호를 위한 이용자 동의사항 (필수)개인 정보 수집 및 이용 목적 : 회사는 수집한 개인정보를 제보 내용에 관한 확인 및 처리 등의 업무를 위해 수집, 이용하고 있습니다.',\n",
       "    'score': 0.5715041,\n",
       "    'raw_content': None},\n",
       "   {'title': '\"부정선거, 믿습니다!\"…\\'민주주의 위기\\' 언론은 뭐했나 [창+] | Kbs 뉴스',\n",
       "    'url': 'https://news.kbs.co.kr/news/view.do?ncd=8155147',\n",
       "    'content': \"부정선거 관련 소송은 21대 총선에서만 126건. 그러나 법원은 '근거 없다'고 판단했다. 22대 총선 수사는 어땠을까. 부정선거 의혹은 모두 '무혐의'로 종결됐다. 그러나 이들은 수사 결과도, 사법부도 전혀 믿지 않는다.  박주현/ 변호사\",\n",
       "    'score': 0.53123426,\n",
       "    'raw_content': None},\n",
       "   {'title': '[4·10 총선] 황교안 \"부정선거 적발 시작돼…증거 쏟아질 것\"',\n",
       "    'url': 'https://www.yna.co.kr/view/AKR20240410080100001',\n",
       "    'content': '[4·10 총선] 황교안 \"부정선거 적발 시작돼…증거 쏟아질 것\" | 연합뉴스 영상 [4·10 총선] 황교안 \"부정선거 적발 시작돼…증거 쏟아질 것\" 이 뉴스 공유하기 닫기 카카오톡 페이스북 X 카카오 [4·10 총선] 황교안 \"부정선거 적발 시작돼…증거 쏟아질 것\" 국민의힘 전신 미래통합당 황교안 전 대표는 10일 4·10 총선 개표소에서 수상한 정황들이 발견됐다며 \"부정선거가 적발되기 시작했다\"고 주장했다. 황 전 대표는 이날 자신의 페이스북에서 \"인천 계양과 서대문, 종로 등 전국 개표소 여기저기에서 이상한 투표함들이 많이 발견됐다\"며 \"봉인지가 붙어있지 않은 투표함, 봉인지를 떼었다 붙였다 한 투표함 등\"이라고 했다. 이 뉴스 공유하기 닫기 카카오톡 페이스북 X 카카오 (서울=연합뉴스) 김철선 기자 = 국민의힘 전신 미래통합당 황교안 전 대표는 10일 4·10 총선 개표소에서 수상한 정황들이 발견됐다며 \"부정선거가 적발되기 시작했다\"고 주장했다. 경기 부진에도 금리 동결…1,500원 넘보는 환율이 인하 \\'발목\\'(종합) 영상 영상 기사   영상 기사   영상 기사   영상',\n",
       "    'score': 0.5297749,\n",
       "    'raw_content': None}],\n",
       "  'response_time': 1.9}}"
      ]
     },
     "execution_count": 43,
     "metadata": {},
     "output_type": "execute_result"
    }
   ],
   "source": [
    "results = process_data(keywords)\n",
    "results"
   ]
  },
  {
   "cell_type": "code",
   "execution_count": 48,
   "metadata": {},
   "outputs": [
    {
     "name": "stdout",
     "output_type": "stream",
     "text": [
      "{'query': '2024년 한국 총선', 'follow_up_questions': None, 'answer': None, 'images': [], 'results': [{'title': '2024 총선 - Kbs 뉴스', 'url': 'https://news.kbs.co.kr/special/election2024/main.html', 'content': '2024 총선 | 제 22대 국회의원 선거와 관련된 정보를 빠르고 정확하게 알려드립니다. 여론조사, 선거뉴스, 선거영상 등 다양한 콘텐츠를 kbs 총선 특집사이트에서 확인하세요. ... 4년 (2024.5.30. ~ 2028.5.29.) 재·보궐선거는 전임자의 잔여 임기', 'score': 0.7610953, 'raw_content': None}, {'title': '대한민국 제22대 국회의원 선거 - 위키백과, 우리 모두의 백과사전', 'url': 'https://ko.wikipedia.org/wiki/대한민국_제22대_국회의원_선거', 'content': '대한민국 제22대 국회의원 선거는 2024년 4월 10일에 실시된 대한민국의 국회의원 선거이다. 지역구 국회의원 254명, 비례대표 국회의원 46명을 선출하였다. 국회의원 총선거와 함께 2024년 4월 대한민국 재보궐선거도 동시에 치러졌다.. 이 선거는 윤석열 정부 집권 3년차에 접어들기 직전에 치러지는', 'score': 0.69672287, 'raw_content': None}, {'title': '2024 총선: 집권당 역대급 참패 원인과 앞으로의 전망 - Bbc', 'url': 'https://www.bbc.com/korean/articles/crgyxz146x3o', 'content': '2024 총선; 한국; 관련 기사 더 보기 ... 2024년 4월 5일. 22대 총선 개표 결과 보기 2024년 4월 11일', 'score': 0.6867278, 'raw_content': None}, {'title': '2024년 한국 총선결과 - Kbdio', 'url': 'https://www.kbdio.com/2612', 'content': '반면 집권 여당인 국민의힘은 4년 전과 비슷한 모습으로 완패했다. 개표율이 약 99.82%를 기록한 11일 오전 7시 현재 민주당은 서울 강남권과 경기 동부권을 제외한 수도권 대부분 지역을 석권했다. ... 총선 승패를 좌우하는 수도권에서 민주당은 서울 48곳 중 37곳', 'score': 0.6862234, 'raw_content': None}, {'title': '2024 총선 - BBC News 코리아', 'url': 'https://www.bbc.com/korean/topics/ck500rxje65t', 'content': \"22대 총선 개표 결과 보기 2024년 4월 11일 ... 박충권이 누구야?...'북한 미사일 개발자' 한국 국회의원 되다 2024년 4월 11일\", 'score': 0.63615024, 'raw_content': None}], 'response_time': 1.59}\n",
      "{'query': '중국 개입 부정선거', 'follow_up_questions': None, 'answer': None, 'images': [], 'results': [{'title': '중국 관영매체, \"우린 대한민국 부정선거 개입 안했다\" 취지 주장', 'url': 'http://www.fntoday.co.kr/news/articleView.html?idxno=344986', 'content': '중국이 대한민국의 선거에 자신들은 개입한 적이 없다고 발뺌하고 나섰다. 윤석열 대통령의 비상계엄 선포의 목적 중 하나가 부정선거 의혹을 밝히기 위함이었다는 것이 전해지면서 부정선거 의혹에 대한 실체적인 검증이 필요하다는 분위기가 조성되고 있다.이 와중에 중국 정부 입장을 대변하는', 'score': 0.77364457, 'raw_content': None}, {'title': '中, 부정선거 개입설 입 열었다…\"한국 내정 우리와 연계 말라\" | 중앙일보', 'url': 'https://www.joongang.co.kr/article/25312625', 'content': '주한 중국 대사관이 국내 일각에서 제기되는 중국의 부정선거 개입설에 대해 \"한국 내정 문제를 중국과 무리하게 연계시키는 것을 반대한다\"고 밝혔다. 한편 중국 대사관은 이날 입장문에서 윤석열 대통령 지지자 일부를 중심으로 확산하는 반중 정서를 의식한 듯 \"한국 측이 재한 중국 국민들의', 'score': 0.76596165, 'raw_content': None}, {'title': '[심층분석] 중국의 4·10 총선 개입 주시해야 - 미래한국 Weekly', 'url': 'https://www.futurekorea.co.kr/news/articleView.html?idxno=147135', 'content': '지난 대선 때까지 \\'중국 해킹\\' 의혹의 근거가 됐던 사전투표용지 qr코드도 바코드로 바꾸는 방안도 검토하고 있다. \"qr코드가 부정선거 의혹의 근본 원인 중 하나여서 해소하기 위한 목적\"이라는 게 국민의힘 공정선거제도개선 특별위원회 관계자의 설명', 'score': 0.63750535, 'raw_content': None}, {'title': '중국 \"中의 \\'한국 부정선거 개입\\' 음모론, 韓 보수가 조작한 정치 희극\"', 'url': 'https://www.hankookilbo.com/News/Read/A2025021111440001969', 'content': \"윤석열 대통령의 불법 비상계엄 선포·내란 시도 사태와 관련해 '친(親)윤석열 세력'을 중심으로 제기되는 '부정선거 및 중국 개입설'을 두고 중국이\", 'score': 0.63125396, 'raw_content': None}, {'title': '[단독] 선관위, 중국인 부정선거 개입설 일축…\"외국인에 안 맡겨\"', 'url': 'https://www.hani.co.kr/arti/politics/assembly/1179248.html', 'content': '윤석열 대통령 쪽이 헌법재판소 탄핵심판에서 중앙선거관리위원회 선거 관리에 중국인이 개입했다는 주장을 제기하는 가운데, 선관위가 헌재에', 'score': 0.61972505, 'raw_content': None}], 'response_time': 1.77}\n",
      "{'query': '한국 총선 부정선거', 'follow_up_questions': None, 'answer': None, 'images': [], 'results': [{'title': '부정선거 의혹 증거 모음 (1) 이래도 부정선거가 아니라고?', 'url': 'http://www.fntoday.co.kr/news/articleView.html?idxno=340455', 'content': '부정선거 의혹 증거 모음 (1) 이래도 부정선거가 아니라고? 부정선거 부정선거 부정선거 [유상범 페이스북] 국민의힘 원내대책회의(25.01.14.) [유상범 페이스북] 국민의힘 원내대책회의(25.01.14.) [유상범 페이스북] 국민의힘 법제사법위원 기자회견 전문(25.01.13.) [유상범 페이스북] 국민의힘 법제사법위원 기자회견 전문(25.01.13.) 부정선거 의혹 증거 모음 (1) 이래도 부정선거가 아니라고? HOME 핫이슈 부정선거 부정선거 의혹 증거 모음 (1) 이래도 부정선거가 아니라고? 본지는 지난 21대 총선(2020), 22대 총선(2024)에서 선거부정(부정선거)가 발생했다는 의혹에 대해 진실을 알리기 위해 노력해 왔다. 오산시에서 공개된 비정상 투표지를 본 관련 온라인 카페 및 커뮤니티에서는 면 \"이건 명백한 부정선거 증거인데?\" \"이래도 부정선거가 아니라고?\" 라는 반응과 함께 \"대법원을 믿을 수 없으니 국민들이 심판을 해야 한다\"는 목소리가 높아지고 있다. 尹 지지율 43% 최고치..정당 지지율도 국민의힘 우세 (파이낸스투데이&더퍼블릭 공동여론조사) [여론조사] 윤석열 대통령 지지율 45.3%...국민의힘 44.5% VS 민주당 39.9% (파이낸스투데이-더퍼블릭 공동) 尹 지지율 43%..정당 지지도도 국민의힘 우세 (파이낸스투데이&더퍼블릭 공동여론조사)', 'score': 0.6506676, 'raw_content': None}, {'title': '부정선거 의혹, 음지에서 양지로?…심상찮은 분위기 | 한국경제', 'url': 'https://www.hankyung.com/article/2025012485807', 'content': '사진=전한길 유튜브 민경욱 전 의원이 21대 총선 낙선 뒤 제기한 부정선거 의혹이 2025년 정치권을 강타하고 있다. 줄곧 터무니없는 음모론으로', 'score': 0.6407488, 'raw_content': None}, {'title': '개표 조작, 사전투표 조작 모두 음모일 뿐... 부정선거 주장 뜯어봤더니 | 한국일보', 'url': 'https://www.hankookilbo.com/News/Read/A2025012314350003031', 'content': '부정선거 주장 뜯어봤더니 | 한국일보 윤 대통령 측은 국가정보원의 선관위 보안점검 결과, 통합선거인 명부의 내용을 변경할 수 있다고 주장했지만, 이는 \\'모의해킹\\'을 전제로 한 것이다. 이 모든 걸 뚫고 부정선거를 실행하기 위해선 고도의 전산 기술과 해킹 능력, 대규모의 인력과 조직, 이를 뒷받침해줄 막대한 재원이 필요한 셈인데 대법원은 \\'부정선거 실행 주체 및 증명이 이뤄지지 않았다\\'며 주장을 기각했다. 선관위 또한 \"명백한 허위사실\"이라며 \"계엄 당일 선거연수원엔 5급 승진자 50명 및 6급 보직자 69명을 대상으로 교육과정을 운영하고 있었으며, 이 가운데 공무원 88명, 외부 감사 8명 등 총 96명이 숙박하고 있었다\"고 밝혔다. 한국일보가 회원을 위해 제공하는 뉴스레터 등 모든 뉴스 서비스(뉴스, 영상, 뉴스 서비스 기반 이벤트 및 프로모션, 새로운 포맷 콘텐츠) 등 추천·안내 개인정보 보호를 위한 이용자 동의사항 (필수)개인 정보 수집 및 이용 목적 : 회사는 수집한 개인정보를 제보 내용에 관한 확인 및 처리 등의 업무를 위해 수집, 이용하고 있습니다.', 'score': 0.5715041, 'raw_content': None}, {'title': '\"부정선거, 믿습니다!\"…\\'민주주의 위기\\' 언론은 뭐했나 [창+] | Kbs 뉴스', 'url': 'https://news.kbs.co.kr/news/view.do?ncd=8155147', 'content': \"부정선거 관련 소송은 21대 총선에서만 126건. 그러나 법원은 '근거 없다'고 판단했다. 22대 총선 수사는 어땠을까. 부정선거 의혹은 모두 '무혐의'로 종결됐다. 그러나 이들은 수사 결과도, 사법부도 전혀 믿지 않는다.  박주현/ 변호사\", 'score': 0.53123426, 'raw_content': None}, {'title': '[4·10 총선] 황교안 \"부정선거 적발 시작돼…증거 쏟아질 것\"', 'url': 'https://www.yna.co.kr/view/AKR20240410080100001', 'content': '[4·10 총선] 황교안 \"부정선거 적발 시작돼…증거 쏟아질 것\" | 연합뉴스 영상 [4·10 총선] 황교안 \"부정선거 적발 시작돼…증거 쏟아질 것\" 이 뉴스 공유하기 닫기 카카오톡 페이스북 X 카카오 [4·10 총선] 황교안 \"부정선거 적발 시작돼…증거 쏟아질 것\" 국민의힘 전신 미래통합당 황교안 전 대표는 10일 4·10 총선 개표소에서 수상한 정황들이 발견됐다며 \"부정선거가 적발되기 시작했다\"고 주장했다. 황 전 대표는 이날 자신의 페이스북에서 \"인천 계양과 서대문, 종로 등 전국 개표소 여기저기에서 이상한 투표함들이 많이 발견됐다\"며 \"봉인지가 붙어있지 않은 투표함, 봉인지를 떼었다 붙였다 한 투표함 등\"이라고 했다. 이 뉴스 공유하기 닫기 카카오톡 페이스북 X 카카오 (서울=연합뉴스) 김철선 기자 = 국민의힘 전신 미래통합당 황교안 전 대표는 10일 4·10 총선 개표소에서 수상한 정황들이 발견됐다며 \"부정선거가 적발되기 시작했다\"고 주장했다. 경기 부진에도 금리 동결…1,500원 넘보는 환율이 인하 \\'발목\\'(종합) 영상 영상 기사   영상 기사   영상 기사   영상', 'score': 0.5297749, 'raw_content': None}], 'response_time': 1.9}\n"
     ]
    }
   ],
   "source": [
    "for result in results.values():\n",
    "    print(result)"
   ]
  },
  {
   "cell_type": "code",
   "execution_count": null,
   "metadata": {},
   "outputs": [],
   "source": []
  }
 ],
 "metadata": {
  "kernelspec": {
   "display_name": ".venv",
   "language": "python",
   "name": "python3"
  },
  "language_info": {
   "codemirror_mode": {
    "name": "ipython",
    "version": 3
   },
   "file_extension": ".py",
   "mimetype": "text/x-python",
   "name": "python",
   "nbconvert_exporter": "python",
   "pygments_lexer": "ipython3",
   "version": "3.13.1"
  }
 },
 "nbformat": 4,
 "nbformat_minor": 2
}

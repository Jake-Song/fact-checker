{
 "cells": [
  {
   "cell_type": "code",
   "execution_count": 2,
   "metadata": {},
   "outputs": [
    {
     "name": "stdout",
     "output_type": "stream",
     "text": [
      "Alright, let's break down how AI works. It's a broad field, so I'll give you a high-level overview and then dive into some key concepts:\n",
      "\n",
      "**The Core Idea:**\n",
      "\n",
      "At its heart, Artificial Intelligence is about creating computer systems that can perform tasks that typically require human intelligence. This includes things like:\n",
      "\n",
      "*   **Learning:**  Improving performance based on experience.\n",
      "*   **Reasoning:**  Drawing conclusions and making decisions based on information.\n",
      "*   **Problem-solving:**  Finding solutions to complex challenges.\n",
      "*   **Perception:**  Understanding sensory input (like images, sounds, or text).\n",
      "*   **Natural Language Processing:**  Understanding and generating human language.\n",
      "\n",
      "**How AI Systems are Built (General Steps):**\n",
      "\n",
      "1.  **Data Collection & Preparation:** AI thrives on data.  The first step is gathering relevant data for the task you want the AI to perform. This data needs to be cleaned, formatted, and prepared for the AI model.  This is often a huge undertaking.\n",
      "\n",
      "2.  **Model Selection:**  The \"model\" is the algorithm that the AI uses to learn and perform its task.  There are many types of models, each suited for different problems.  Examples include:\n",
      "    *   **Linear Regression:** For predicting continuous values (e.g., house prices).\n",
      "    *   **Decision Trees:** For making decisions based on a set of rules.\n",
      "    *   **Support Vector Machines (SVMs):** For classifying data into categories.\n",
      "    *   **Neural Networks (Deep Learning):**  More complex models inspired by the human brain, used for tasks like image recognition and natural language processing.\n",
      "\n",
      "3.  **Training the Model:** This is where the \"learning\" happens.  The model is fed the prepared data, and it adjusts its internal parameters to improve its performance.  For example, if the model is designed to identify cats in images, it will be shown many images of cats (and non-cats), and it will learn to recognize the patterns that distinguish cats from other objects. This is often an iterative process, repeating many times over the same data.\n",
      "\n",
      "4.  **Testing & Evaluation:**  After training, the model's performance is evaluated on a separate set of data that it hasn't seen before. This helps to ensure that the model can generalize to new situations and isn't just memorizing the training data (a problem called \"overfitting\").\n",
      "\n",
      "5.  **Deployment:** Once the model is performing well, it can be deployed in a real-world application.\n",
      "\n",
      "6.  **Monitoring & Maintenance:**  AI systems need to be continuously monitored to ensure they are still performing as expected.  The model may need to be retrained with new data periodically to adapt to changing conditions.\n",
      "\n",
      "**Key Concepts in AI:**\n",
      "\n",
      "*   **Machine Learning (ML):** A subset of AI that focuses on enabling systems to learn from data without being explicitly programmed.  It's the most common approach to building AI systems today.  There are different types of machine learning:\n",
      "    *   **Supervised Learning:**  The model is trained on labeled data (e.g., images of cats labeled as \"cat\").  The goal is to learn a mapping from the input data to the output labels.\n",
      "    *   **Unsupervised Learning:** The model is trained on unlabeled data. The goal is to discover patterns or structures in the data (e.g., clustering customers into different segments).\n",
      "    *   **Reinforcement Learning:** The model learns by interacting with an environment and receiving rewards or penalties for its actions. This is often used in robotics and game playing.\n",
      "*   **Deep Learning (DL):** A subset of machine learning that uses artificial neural networks with many layers (hence \"deep\").  Deep learning is particularly effective for complex tasks like image recognition, natural language processing, and speech recognition. Deep learning requires a HUGE amount of data to train.\n",
      "*   **Neural Networks:**  Inspired by the structure of the human brain, neural networks consist of interconnected nodes (neurons) that process and transmit information.  The connections between neurons have weights that are adjusted during training to improve the network's performance.\n",
      "*   **Algorithms:** The specific set of instructions that an AI system follows to solve a problem.\n",
      "*   **Data:** The raw material that AI systems learn from. The quality and quantity of data are crucial for the performance of AI.\n",
      "*   **Features:**  Relevant aspects of data used by the AI algorithm.\n",
      "\n",
      "**Examples of AI in Action:**\n",
      "\n",
      "*   **Spam filters:** Use machine learning to identify and filter out unwanted emails.\n",
      "*   **Recommendation systems:**  Suggest products or content based on your past behavior (e.g., Netflix, Amazon).\n",
      "*   **Voice assistants:**  Understand and respond to your voice commands (e.g., Siri, Alexa).\n",
      "*   **Self-driving cars:**  Use computer vision and machine learning to navigate roads.\n",
      "*   **Medical diagnosis:**  Help doctors diagnose diseases by analyzing medical images and patient data.\n",
      "*   **Fraud detection:**  Identify fraudulent transactions by analyzing patterns in financial data.\n",
      "*   **Chatbots:**  Provide customer service through automated conversations.\n",
      "\n",
      "**Important Considerations:**\n",
      "\n",
      "*   **Bias:**  AI systems can inherit biases from the data they are trained on, leading to unfair or discriminatory outcomes.\n",
      "*   **Explainability:**  It can be difficult to understand how some AI models (especially deep learning models) make their decisions.  This lack of transparency can be a problem in high-stakes applications.\n",
      "*   **Ethics:**  AI raises important ethical questions about privacy, security, and the potential for misuse.\n",
      "*   **Compute Power:** Training complex AI models, particularly deep learning models, can require significant computing resources.\n",
      "\n",
      "**In Summary:**\n",
      "\n",
      "AI is a powerful technology that can be used to solve a wide range of problems. It works by using algorithms and data to learn and improve its performance over time.  While AI has the potential to transform many aspects of our lives, it is important to be aware of its limitations and potential risks.  It's a constantly evolving field, and understanding the fundamental concepts is key to navigating its development and impact.\n",
      "\n"
     ]
    }
   ],
   "source": [
    "from google import genai\n",
    "import os\n",
    "from dotenv import load_dotenv\n",
    "load_dotenv()\n",
    "\n",
    "client = genai.Client(api_key=os.getenv(\"GEMINI_API_KEY\"))\n",
    "response = client.models.generate_content(\n",
    "    model=\"gemini-2.0-flash\", contents=\"Explain how AI works\"\n",
    ")\n",
    "print(response.text)"
   ]
  },
  {
   "cell_type": "code",
   "execution_count": 7,
   "metadata": {},
   "outputs": [
    {
     "name": "stdout",
     "output_type": "stream",
     "text": [
      "Hi there! How can I help you today?\n",
      "\n",
      "No search results\n"
     ]
    }
   ],
   "source": [
    "from google import genai\n",
    "from google.genai.types import Tool, GenerateContentConfig, GoogleSearch\n",
    "\n",
    "client = genai.Client(api_key=os.getenv(\"GEMINI_API_KEY\"))\n",
    "model_id = \"gemini-2.0-flash\"\n",
    "\n",
    "google_search_tool = Tool(\n",
    "    google_search = GoogleSearch()\n",
    ")\n",
    "\n",
    "response = client.models.generate_content(\n",
    "    model=model_id,\n",
    "    contents=\"hi\",\n",
    "    config=GenerateContentConfig(\n",
    "        tools=[google_search_tool],\n",
    "        response_modalities=[\"TEXT\"],\n",
    "    )\n",
    ")\n",
    "\n",
    "for each in response.candidates[0].content.parts:\n",
    "    print(each.text)\n",
    "# Example response:\n",
    "# The next total solar eclipse visible in the contiguous United States will be on ...\n",
    "\n",
    "# To get grounding metadata as web content.\n",
    "if response.candidates[0].grounding_metadata.search_entry_point is not None:\n",
    "    print(response.candidates[0].grounding_metadata.search_entry_point.rendered_content)\n",
    "else:\n",
    "    print(\"No search results\")\n"
   ]
  },
  {
   "cell_type": "code",
   "execution_count": 12,
   "metadata": {},
   "outputs": [
    {
     "name": "stdout",
     "output_type": "stream",
     "text": [
      "{'query': '문재인', 'follow_up_questions': None, 'answer': None, 'images': [], 'results': [{'title': '문재인 정부 - 나무위키', 'url': 'https://namu.wiki/w/문재인+정부', 'content': '문재인 정부는 2017년 5월 9일 제19대 대통령 선거에서 당선된 문재인이 이끌었던 대한민국 정부이다. [4] 제6공화국의 일곱 번째 정부이자, 세 번째 여야 정권교체 [5]로 출범한 정부이다. 존속기간은 정부수반인 문재인 전 대통령의 임기에 맞게 2017년 5월 10일부터 2022년 5월 9일까지였으며, 헌정 사상', 'score': 0.78709817, 'raw_content': None}, {'title': '문재인 - 위키백과, 우리 모두의 백과사전', 'url': 'https://ko.wikipedia.org/wiki/문재인', 'content': '떠나 기본적인 인성의 문제다\\'라며 문재인을 평가하였다.[187]\\n학력\\n경력\\n저서\\n관련 서적\\n역대 선거 결과\\n가족 관계\\n출연\\nTV\\n라디오\\n다큐멘터리\\n수상\\n같이 보기\\n각주\\n외부 링크 17)에 「평산책방」(사업자등록번호 448-70-00490)을 개업하여 대표자로 있다.[9]\\n대통령이 되기 이전\\n출생과 가계\\n문재인은 1952년 1월 24일 경상남도 거제군 거제면 명진리 694-1번지에서 아버지 문용형(文龍炯)과 어머니 진주 강씨 강한옥 사이에서 2남 3녀 중 장남으로 태어났다.[10]\\n아버지 문용형은 함경남도 흥남시 운성리 솔안마을 출신으로 함흥농고 졸업 후 일제시대 흥남읍사무소에서 농업계 계장으로 근무했다.[11][12]\\n문재인은 충선공 문익점의 민심을 따르는 것이 마땅한 처사일 것\"이라고 밝혔다.[125]\\n경제 정책\\n집권하자마자 증세론, 일자리 창출 공약, 복지 공약, 탈핵 정책 등이 물 위로 떠올랐다.[126]\\n문재인 정부의 목표는 \"국민의 삶을 책임지는 정부\"이며, 저출산·고령화, 빈곤, 보육, 교육, 의료 분야에서 복지를 확대할 것으로 예상되고 있다.[126] 한편으로는 취임하자마자 10조원 규모의 일자리 추가경정예산을 편성하는 것이 목표이기도 하다.[126]\\n부동산 정책으로는 서민을 위한 주거복지와 도시재생 뉴딜사업에 초점을 두고 있다.[127] \"매년 17만 가구씩 5년간 총 85만 가구의 공적 임대주택을 공급하는 비판했다.[57][58] 그러면서 \"우리가 민주주의를 하는 이유는 다름을 포용하는 유일한 제도이기 때문\"이라고 말했다.[59] 한편 이 무렵 박근혜 대통령의 지지율이 하락하면서, 15.8%가 \"다음에는 문재인을 찍겠다\"는 반응을 보였다.[60]\\n2014년 12월 29일에는 새정치민주연합의 당권 도전을 선언했다.[61]\\n그는 당 대표가 되면 2016년에 치러질 차기 총선에 출마하지 않겠다고 하였으며, 출마 선언 이후 약 5개월 만에 박원순 서울시장을 제치고 대선 후보 지지율 1위를 탈환하였다.[62] 이후 2015년 2월 8일 새정치민주연합 제1차 전당대회에서 41.8%를 얻은 박지원 후보를 앞선 45.3%를 얻으며 새정치민주연합 당대표에 당선되었으며,[63] 새정치민주연합이 더불어민주당으로 개편된 후에도 계속 대표를 지냈다.\\n 민주당은 한동훈의 발언에 불쾌감을 드러냈다.[180]\\n평가\\n긍정적 평가\\n비지니스포스트는 ‘합리적이고 중심이 잘 잡혀있어 안정된 성품을 지녔다’고 평가했다.[22] 미국의 시사 잡지 애틀랜틱은 북한의 \\'핵 드라마\\'에서 김정은 북한 노동당 위원장과 도널드 트럼프 미국 대통령이 변덕스럽고 매혹적인 스타라면, 이 드라마를 실제 연출하는 이는 문재인 대통령이라고 평가했다.[181] CNN은 대북 외교를 두고 \"문재인에게 모자를 벗어 경의를 표해야한다\"는', 'score': 0.6388584, 'raw_content': None}, {'title': '문재인', 'url': 'https://moonjaein.com/', 'content': '문재인 대통령의 공식 웹사이트입니다.', 'score': 0.598524, 'raw_content': None}, {'title': 'Moon Jae-in - Wikipedia', 'url': 'https://en.wikipedia.org/wiki/Moon_Jae-in', 'content': 'Jjing-jjing is the country\\'s first-ever \"First Cat.\"[161]\\nAfter settling in at the official presidential residence at the Blue House, a dog Tory (토리, a mixed-breed) was adopted from an animal shelter in contrast with other \"First Dogs\" who have traditionally been purebred Jindo dogs.[162][163] In regards to Tory\\'s adoption, Moon stated that \"we need to pay more attention to abandoned animals and care for them as a society\" and that he wanted to remove the stigma against Tory\\'s dark coat, which contributed to him being virtually un-adoptable for two years after he was rescued in 2015.[164]\\nHe also received a pair of Pungsan dogs male Song-gang (송강) and female Gom-ee (곰이) from North Korean counterpart Kim Jong Un as a gift shortly after meeting in September 2018.[citation needed] Gom-ee later gave birth to six puppies San-ee, Deul-ee, Gang-ee, Byul-ee, Dal-ee and Hen-nim (산이, 들이, 강이, 별이, 달이 and 햇님) named after Korean words for parts of nature - a mountain, grass field, a river, a star, the Moon and the Sun. The protest demonstration was also held on October 3, the national foundation day.[150]\\nIn 2020, although a spike in new coronavirus cases in South Korea has prompted authorities to reimpose tighter social distancing curbs in Seoul, there were thousands of demonstrators protesting against Moon Jae-in\\'s policies.[151][152] Police said that they will probe all participants of demonstrations held in downtown Seoul on the day to look into whether they violated a court decision related to COVID-19 and other regulations.[153] On October 3 the national foundation day, conservative groups held drive-thru anti-government rallies in southern Seoul, amid concerns about the spread of the new coronavirus.[154]\\nAlleged harassment of human rights groups[edit]\\nOn July 13, 2020, Park Sang-hak, a citizen of South Korea and North Korean defector, wrote an op-ed in The Washington Post. The letter noted that the South Korean government\\'s actions appeared to conflict with the International Covenant on Civil and Political Rights treaty, which was signed by South Korea in 1990.[157] Signatories included Suzanne Scholte.[158]\\nPersonal life[edit]\\nFamily[edit]\\nMoon married Kim Jung-sook, a vocalist at Kyung Hee University where he was also a student.[citation needed]\\nHe and Kim both individually revealed in separate Korean talk shows that they met each other when Moon was a student activist protesting the Yushin Constitution.[159]\\nHe has two children, a daughter and a son.[160]\\nPets[edit]\\nMoon and Kim lived with four dogs and a cat at the Blue House.[citation needed]\\nBefore elected as the president in 2017, they lived with several dogs and cats who were all once abandoned by their previous guardians. The prosecutor representing Moon is seeking one and a half years of jail time for Koh.[143]\\n2018 opinion rigging scandal in South Korea[edit]\\nIn April 2018, a group of supporters of the South Korean President Moon Jae-in were charged with online opinion rigging.[144] The accused suspects were the members of the ruling Democratic Party (DPK).[145] The main perpetrator, as well as the leader of the pro-Moon group, was a well-known power-blogger called \"Druking\".[144]\\nIn 2018, the special prosecutor indicted Gyeongnam Province Governor Kim Kyung-soo in relation to this case. His announced goal is to create 810,000 public sector jobs through raising taxes on the wealthy.[37]\\nMoon\\'s policy against corporate corruption, specifically in regard to Korean conglomerates known as \"chaebols \" is to give \"minority shareholders more power in electing board members\" of the companies.[37]\\nMoon also promised transparency in his presidency, moving the presidential residence from the palatial and isolated Blue House to an existing government complex in downtown Seoul.[38]\\nMoon was criticized for homophobic comments he made in a televised presidential debate for the 2017 presidential election, where Moon said he opposed homosexuality,[39] in response to conservative candidate Hong Jun-pyo\\'s remarks that gay soldiers were a source of weakness in the South Korean military.', 'score': 0.56489134, 'raw_content': None}, {'title': '문재인 - 나무위키', 'url': 'https://namu.wiki/w/문재인', 'content': '문재인 전 대통령이 임기를 마치게 된다면 추후 이 마지막 하루에 대한 법적 판단이 필요할 수 있다. 2021년에 다시 이 문제가 언론을 통해 불거졌는데 중앙선거관리위원회 에서는 검토가 필요한 사항이라고 밝혔다.', 'score': 0.46380913, 'raw_content': None}], 'response_time': 1.59}\n"
     ]
    }
   ],
   "source": [
    "# To install, run: pip install tavily-python\n",
    "from tavily import TavilyClient\n",
    "import os\n",
    "from dotenv import load_dotenv\n",
    "load_dotenv()\n",
    "\n",
    "client = TavilyClient(api_key=f\"{os.getenv('TAVILY_API_KEY')}\")\n",
    "\n",
    "response = client.search(\n",
    "    query=\"문재인\"\n",
    ")\n",
    "\n",
    "print(response)\n"
   ]
  },
  {
   "cell_type": "code",
   "execution_count": null,
   "metadata": {},
   "outputs": [],
   "source": []
  }
 ],
 "metadata": {
  "kernelspec": {
   "display_name": ".venv",
   "language": "python",
   "name": "python3"
  },
  "language_info": {
   "codemirror_mode": {
    "name": "ipython",
    "version": 3
   },
   "file_extension": ".py",
   "mimetype": "text/x-python",
   "name": "python",
   "nbconvert_exporter": "python",
   "pygments_lexer": "ipython3",
   "version": "3.13.1"
  }
 },
 "nbformat": 4,
 "nbformat_minor": 2
}
